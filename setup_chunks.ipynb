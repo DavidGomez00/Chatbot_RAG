{
 "cells": [
  {
   "cell_type": "markdown",
   "metadata": {},
   "source": [
    "This file will ensure the chunks are properly created and in the right directory."
   ]
  },
  {
   "cell_type": "code",
   "execution_count": 1,
   "metadata": {},
   "outputs": [
    {
     "name": "stdout",
     "output_type": "stream",
     "text": [
      "Parsing files...\n"
     ]
    }
   ],
   "source": [
    "import os\n",
    "\n",
    "from Chunk_preparation.parser import parse_files\n",
    "from Chunk_preparation.chunker import create_chunks\n",
    "\n",
    "os.chdir(\"/home/david/GitHub/gesida-rag-huil/\")\n",
    "\n",
    "print(\"Parsing files...\")\n",
    "parse_files()"
   ]
  },
  {
   "cell_type": "code",
   "execution_count": 2,
   "metadata": {},
   "outputs": [
    {
     "name": "stdout",
     "output_type": "stream",
     "text": [
      "Creating naturally divided chunks...\n"
     ]
    }
   ],
   "source": [
    "print(\"Creating naturally divided chunks...\")\n",
    "create_chunks(strategy=\"nat\", chunk_size=512, semantic_model=\"multilinguale5\")"
   ]
  },
  {
   "cell_type": "code",
   "execution_count": 4,
   "metadata": {},
   "outputs": [
    {
     "name": "stdout",
     "output_type": "stream",
     "text": [
      "Creating semantically divided chunks...\n"
     ]
    }
   ],
   "source": [
    "print(\"Creating semantically divided chunks...\")\n",
    "create_chunks(strategy=\"nat_sem\", chunk_size=512, semantic_model=\"multilinguale5\")"
   ]
  },
  {
   "cell_type": "code",
   "execution_count": 2,
   "metadata": {},
   "outputs": [],
   "source": [
    "import json\n",
    "import os\n",
    "\n",
    "\n",
    "# Check if there is any empty chunk\n",
    "for docs in os.listdir(\".data/chunks/nat\"):\n",
    "    with open(f\".data/chunks/nat/{docs}\", \"r\") as f:\n",
    "        data = json.load(f)\n",
    "    for chunk in data:\n",
    "        if not chunk[\"text\"]:\n",
    "            print(f\"Empty chunk in {docs}\")\n",
    "            print(chunk[\"chunk_id\"])\n",
    "            break\n",
    "\n",
    "for docs in os.listdir(\".data/chunks/nat_sem\"):\n",
    "    with open(f\".data/chunks/nat/{docs}\", \"r\") as f:\n",
    "        data = json.load(f)\n",
    "    for chunk in data:\n",
    "        if not chunk[\"text\"]:\n",
    "            print(f\"Empty chunk in {docs}\")\n",
    "            print(chunk[\"chunk_id\"])\n",
    "            break"
   ]
  },
  {
   "cell_type": "code",
   "execution_count": 5,
   "metadata": {},
   "outputs": [],
   "source": [
    "# Ensure all chucks text is a string\n",
    "for doc in os.listdir(\".data/chunks/nat\"):\n",
    "    with open(f\".data/chunks/nat/{doc}\", \"r\") as f:\n",
    "        data = json.load(f)\n",
    "    for chunk in data:\n",
    "        if not isinstance(chunk[\"text\"], str):\n",
    "            print(f\"Chunk text is not a string in {doc}\")\n",
    "            print(chunk[\"chunk_id\"])\n",
    "            break\n",
    "\n",
    "for doc in os.listdir(\".data/chunks/nat_sem\"):\n",
    "    with open(f\".data/chunks/nat/{doc}\", \"r\") as f:\n",
    "        data = json.load(f)\n",
    "    for chunk in data:\n",
    "        if not isinstance(chunk[\"text\"], str):\n",
    "            print(f\"Chunk text is not a string in {doc}\")\n",
    "            print(chunk[\"chunk_id\"])\n",
    "            break\n"
   ]
  },
  {
   "cell_type": "code",
   "execution_count": 30,
   "metadata": {},
   "outputs": [
    {
     "data": {
      "text/plain": [
       "{'error': {}}"
      ]
     },
     "execution_count": 30,
     "metadata": {},
     "output_type": "execute_result"
    }
   ],
   "source": [
    "import requests\n",
    "\n",
    "simple_string = \"Hello\"*508 # Limite en el numero de tokens. 512 tokens.\n",
    "response = requests.post(\n",
    "                url=f\"http://176.98.223.168:11434/api/embed\",\n",
    "                json={\n",
    "                    \"model\": \"zylonai/multilingual-e5-large\",\n",
    "                    \"input\": simple_string\n",
    "                }\n",
    "            )\n",
    "response.json()"
   ]
  },
  {
   "cell_type": "code",
   "execution_count": 9,
   "metadata": {},
   "outputs": [
    {
     "name": "stdout",
     "output_type": "stream",
     "text": [
      "2935\n"
     ]
    },
    {
     "data": {
      "text/plain": [
       "{'error': {}}"
      ]
     },
     "execution_count": 9,
     "metadata": {},
     "output_type": "execute_result"
    }
   ],
   "source": [
    "import requests\n",
    "\n",
    "problematic_string = \"•Estudios de donantes de órganos o tejidos.•Usuarios técnicas de reproducción asistida yrecepción de semen.Oferta Dirigida Oferta obligatoriaCONDICIONESINDICADORAS Enfermedades Diagnósticas de SIDA PERSONAS CON SINTOMATOLOGÍA SUGERENTE Enfermedades Diagnósticas de SIDA Cáncer de cuello uterino Linfoma no HodgkinSarcoma de Kaposi Infecciones bacterianasMycobacterium tuberculosis , pulmonar o extrapulmonar Complejo Mycobacterium avium o Mycobacterium kansasii , diseminado o extrapulmonar Mycobacterium , otras especies o especies no identificadas, diseminado o extrapulmonarNeumonía recurrente (2 o más episodios en 12 meses) Infecciones víricasRetinitis por citomegalovirus Citomegalovirus en otras localizaciones (excepto hígado, bazo y ganglios linfáticos)Leucoencefalopatía multifocal progresivaHerpes simple: úlceras crónicas (1 > mes de duración) o bronquitis, neumonía o esofagitis Infecciones parasitariasToxoplasmosis cerebral Criptosporidiosis diarreica, > 1 mesIsosporiasis, > 1 mesLeishmaniosis diseminada atípicaReactivación de la tripanosomiasis americana (meningoencefalitis o miocarditis) Infecciones micóticasNeumonía por Pneumocystis jiroveci Candidiasis esofágica Candidiasis bronquial/traqueal/pulmonarCriptococosis extrapulmonarHistoplasmosis diserninada/extrapulmonarCoccidioidomicosis diseminada/extrapulmonarPeniciliosis diseminada CONDICIONES INDICADORAS Condiciones con prevalencia >0.1% Infecciones de transmisión sexual Linfoma malignoCáncer/displasia analDisplasia cervicalHerpes zósterHepatitis B o C (aguda o crónica)Síndrome mononucleósicoLeucocitopenia/trombocitopenia idiopática que dure > 4 semanasDermatitis seborreica/exantemaEnfermedad neumocócica invasivaFiebre sin causa aparenteCandidemiaLeishmaniosis visceralGestación (implicaciones para el feto) Condiciones con prevalencia posiblemente mayor >0.1%Cáncer de pulmón primario Meningitis linfocíticaLeucoplasia vellosa oralPsoriasis grave o atípicaSíndrome de Guillain-BarréMononeuritisDemencia subcorticalEnfermedad del tipo esclerosis múltipleNeuropatía periféricaPérdida de peso injustificadaLinfoadenopatía idiopáticaCandidiasis bucal idiopática Diarrea crónica idiopática Insuficiencia renal crónica idiopáticaHepatitis ANeumonía adquirida en la comunidadCandidiasis Condiciones con prevalencia de Infección por VIH posiblemente < 0.1% pero en las que no diagnosticar la infección puede tener consecuencias negativas importantes Cáncer TrasplanteEnfermedad autoinmune tratada con terapia inmunosupresoraLesión cerebral primaria ocupando espacioPurpura trombocitopénica idiopática/trombocítica En general el cribado rutinario de la población general en el marco de la AP en España no ha funcionado como se esperaba por varios motivos; entre otros, la escasa difusión que ha tenido la guía entre los profesionales sanitarios y la falta de claridad del último criterio relativo a las tasas de nuevos diagnósticos de VIH en cada provincia. \"\n",
    "print(len(problematic_string))\n",
    "\n",
    "response = requests.post(\n",
    "                url=f\"http://176.98.223.168:11434/api/embed\",\n",
    "                json={\n",
    "                    \"model\": \"zylonai/multilingual-e5-large\",\n",
    "                    \"input\": problematic_string\n",
    "                }\n",
    "            )\n",
    "response.json()"
   ]
  },
  {
   "cell_type": "code",
   "execution_count": 32,
   "metadata": {},
   "outputs": [],
   "source": [
    "from transformers import AutoTokenizer\n",
    "\n",
    "tokenizer = AutoTokenizer.from_pretrained(\"intfloat/multilingual-e5-large\")\n"
   ]
  },
  {
   "cell_type": "code",
   "execution_count": null,
   "metadata": {},
   "outputs": [],
   "source": []
  }
 ],
 "metadata": {
  "kernelspec": {
   "display_name": "RAG",
   "language": "python",
   "name": "python3"
  },
  "language_info": {
   "codemirror_mode": {
    "name": "ipython",
    "version": 3
   },
   "file_extension": ".py",
   "mimetype": "text/x-python",
   "name": "python",
   "nbconvert_exporter": "python",
   "pygments_lexer": "ipython3",
   "version": "3.11.10"
  }
 },
 "nbformat": 4,
 "nbformat_minor": 2
}
